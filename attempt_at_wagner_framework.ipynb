{
 "cells": [
  {
   "cell_type": "markdown",
   "id": "4e2f5884",
   "metadata": {},
   "source": [
    "# Acknowledgement\n",
    "\n",
    "This framework and most of the code was initially developed by Adam Zsolt Wagner in 2021 https://github.com/zawagner22/cross-entropy-for-combinatorics/blob/main/code_template.py. This file is its adaptation to the current day and just a learning experience for an author to learn about it further"
   ]
  },
  {
   "cell_type": "markdown",
   "id": "880b7283-f77e-40ab-9b58-d6b3c7b831b1",
   "metadata": {},
   "source": [
    "# 1. Add imports"
   ]
  },
  {
   "cell_type": "code",
   "execution_count": 3,
   "id": "c1c49885-9ec5-4587-a048-5de11c174455",
   "metadata": {},
   "outputs": [],
   "source": [
    "# Standard & Scientific Libraries\n",
    "import random\n",
    "import numpy as np\n",
    "import pickle\n",
    "import time\n",
    "import math\n",
    "from statistics import mean\n",
    "\n",
    "# Visualization\n",
    "import matplotlib.pyplot as plt\n",
    "\n",
    "# Graph Theory\n",
    "import networkx as nx \n",
    "\n",
    "# High-Performance Computing\n",
    "from numba import njit\n",
    "\n",
    "# TensorFlow and Keras (Modern Imports)\n",
    "# Keras is now the high-level API within TensorFlow\n",
    "import tensorflow as tf\n",
    "from tensorflow.keras.utils import to_categorical\n",
    "from tensorflow.keras.models import Sequential, load_model\n",
    "from tensorflow.keras.layers import Dense\n",
    "from tensorflow.keras.optimizers import SGD, Adam"
   ]
  },
  {
   "cell_type": "markdown",
   "id": "a8fbbf52",
   "metadata": {},
   "source": [
    "# 2. Set all the constants"
   ]
  },
  {
   "cell_type": "code",
   "execution_count": 4,
   "id": "2f28b890-6b83-487a-be21-bc933b1a5660",
   "metadata": {},
   "outputs": [],
   "source": [
    "N = 20 # number of vertices in the graph. Only used in the reward function, irrelevant to the algorithm\n",
    "DECISIONS = int(N*(N-1)/2) # The length of the word we are generating\n",
    "\n",
    "LEARNING_RATE = 0.0001 # Increase this to make convergence faster, decrease if algorithm gets stuck in local optima too often\n",
    "n_sessions = 1000 # number of sessions per iteration\n",
    "percentile = 93 # top 100-X percentile that survives to the next iteration\n",
    "super_percentile = 94 #top 100-X percentile that survives to next iteration\n",
    "\n",
    "FIRST_LAYER_NEURONS = 128 #Number of neurons in the hidden layers.\n",
    "SECOND_LAYER_NEURONS = 64\n",
    "THIRD_LAYER_NEURONS = 4\n",
    "\n",
    "n_actions = 2 #The size of the alphabet. In this file we will assume this is 2. There are a few things we need to change when the alphabet size is larger,\n",
    "\t\t\t  #such as one-hot encoding the input, and using categorical_crossentropy as a loss function.\n",
    "\n",
    "observation_space = 2*DECISIONS #Leave this at 2*DECISIONS. The input vector will have size 2*DECISIONS, where the first DECISIONS letters encode our partial word (with zeros on\n",
    "\t\t\t\t\t\t  #the positions we haven't considered yet), and the next DECISIONS bits one-hot encode which letter we are considering now.\n",
    "\t\t\t\t\t\t  #So e.g. [0,1,0,0,   0,0,1,0] means we have the partial word 01 and we are considering the third letter now.\n",
    "\t\t\t\t\t\t  #Is there a better way to format the input to make it easier for the neural network to understand things?\n",
    "\n",
    "len_game = DECISIONS \n",
    "state_dim = (observation_space,)\n",
    "\n",
    "INF = 1000000"
   ]
  },
  {
   "cell_type": "markdown",
   "id": "3434e9a0",
   "metadata": {},
   "source": [
    "# 3. Model structure\n",
    "\n",
    "Model structure: a sequential network with three hidden layers, sigmoid activation in the output. I usually used relu activation in the hidden layers but play around to see what activation function and what optimizer works best.\n",
    "It is important that the loss is binary cross-entropy if alphabet size is 2."
   ]
  },
  {
   "cell_type": "code",
   "execution_count": 5,
   "id": "113253e5",
   "metadata": {},
   "outputs": [
    {
     "data": {
      "text/html": [
       "<pre style=\"white-space:pre;overflow-x:auto;line-height:normal;font-family:Menlo,'DejaVu Sans Mono',consolas,'Courier New',monospace\"><span style=\"font-weight: bold\">Model: \"sequential\"</span>\n",
       "</pre>\n"
      ],
      "text/plain": [
       "\u001b[1mModel: \"sequential\"\u001b[0m\n"
      ]
     },
     "metadata": {},
     "output_type": "display_data"
    },
    {
     "data": {
      "text/html": [
       "<pre style=\"white-space:pre;overflow-x:auto;line-height:normal;font-family:Menlo,'DejaVu Sans Mono',consolas,'Courier New',monospace\">┏━━━━━━━━━━━━━━━━━━━━━━━━━━━━━━━━━┳━━━━━━━━━━━━━━━━━━━━━━━━┳━━━━━━━━━━━━━━━┓\n",
       "┃<span style=\"font-weight: bold\"> Layer (type)                    </span>┃<span style=\"font-weight: bold\"> Output Shape           </span>┃<span style=\"font-weight: bold\">       Param # </span>┃\n",
       "┡━━━━━━━━━━━━━━━━━━━━━━━━━━━━━━━━━╇━━━━━━━━━━━━━━━━━━━━━━━━╇━━━━━━━━━━━━━━━┩\n",
       "│ dense (<span style=\"color: #0087ff; text-decoration-color: #0087ff\">Dense</span>)                   │ (<span style=\"color: #00d7ff; text-decoration-color: #00d7ff\">None</span>, <span style=\"color: #00af00; text-decoration-color: #00af00\">128</span>)            │        <span style=\"color: #00af00; text-decoration-color: #00af00\">48,768</span> │\n",
       "├─────────────────────────────────┼────────────────────────┼───────────────┤\n",
       "│ dense_1 (<span style=\"color: #0087ff; text-decoration-color: #0087ff\">Dense</span>)                 │ (<span style=\"color: #00d7ff; text-decoration-color: #00d7ff\">None</span>, <span style=\"color: #00af00; text-decoration-color: #00af00\">64</span>)             │         <span style=\"color: #00af00; text-decoration-color: #00af00\">8,256</span> │\n",
       "├─────────────────────────────────┼────────────────────────┼───────────────┤\n",
       "│ dense_2 (<span style=\"color: #0087ff; text-decoration-color: #0087ff\">Dense</span>)                 │ (<span style=\"color: #00d7ff; text-decoration-color: #00d7ff\">None</span>, <span style=\"color: #00af00; text-decoration-color: #00af00\">4</span>)              │           <span style=\"color: #00af00; text-decoration-color: #00af00\">260</span> │\n",
       "├─────────────────────────────────┼────────────────────────┼───────────────┤\n",
       "│ dense_3 (<span style=\"color: #0087ff; text-decoration-color: #0087ff\">Dense</span>)                 │ (<span style=\"color: #00d7ff; text-decoration-color: #00d7ff\">None</span>, <span style=\"color: #00af00; text-decoration-color: #00af00\">1</span>)              │             <span style=\"color: #00af00; text-decoration-color: #00af00\">5</span> │\n",
       "└─────────────────────────────────┴────────────────────────┴───────────────┘\n",
       "</pre>\n"
      ],
      "text/plain": [
       "┏━━━━━━━━━━━━━━━━━━━━━━━━━━━━━━━━━┳━━━━━━━━━━━━━━━━━━━━━━━━┳━━━━━━━━━━━━━━━┓\n",
       "┃\u001b[1m \u001b[0m\u001b[1mLayer (type)                   \u001b[0m\u001b[1m \u001b[0m┃\u001b[1m \u001b[0m\u001b[1mOutput Shape          \u001b[0m\u001b[1m \u001b[0m┃\u001b[1m \u001b[0m\u001b[1m      Param #\u001b[0m\u001b[1m \u001b[0m┃\n",
       "┡━━━━━━━━━━━━━━━━━━━━━━━━━━━━━━━━━╇━━━━━━━━━━━━━━━━━━━━━━━━╇━━━━━━━━━━━━━━━┩\n",
       "│ dense (\u001b[38;5;33mDense\u001b[0m)                   │ (\u001b[38;5;45mNone\u001b[0m, \u001b[38;5;34m128\u001b[0m)            │        \u001b[38;5;34m48,768\u001b[0m │\n",
       "├─────────────────────────────────┼────────────────────────┼───────────────┤\n",
       "│ dense_1 (\u001b[38;5;33mDense\u001b[0m)                 │ (\u001b[38;5;45mNone\u001b[0m, \u001b[38;5;34m64\u001b[0m)             │         \u001b[38;5;34m8,256\u001b[0m │\n",
       "├─────────────────────────────────┼────────────────────────┼───────────────┤\n",
       "│ dense_2 (\u001b[38;5;33mDense\u001b[0m)                 │ (\u001b[38;5;45mNone\u001b[0m, \u001b[38;5;34m4\u001b[0m)              │           \u001b[38;5;34m260\u001b[0m │\n",
       "├─────────────────────────────────┼────────────────────────┼───────────────┤\n",
       "│ dense_3 (\u001b[38;5;33mDense\u001b[0m)                 │ (\u001b[38;5;45mNone\u001b[0m, \u001b[38;5;34m1\u001b[0m)              │             \u001b[38;5;34m5\u001b[0m │\n",
       "└─────────────────────────────────┴────────────────────────┴───────────────┘\n"
      ]
     },
     "metadata": {},
     "output_type": "display_data"
    },
    {
     "data": {
      "text/html": [
       "<pre style=\"white-space:pre;overflow-x:auto;line-height:normal;font-family:Menlo,'DejaVu Sans Mono',consolas,'Courier New',monospace\"><span style=\"font-weight: bold\"> Total params: </span><span style=\"color: #00af00; text-decoration-color: #00af00\">57,289</span> (223.79 KB)\n",
       "</pre>\n"
      ],
      "text/plain": [
       "\u001b[1m Total params: \u001b[0m\u001b[38;5;34m57,289\u001b[0m (223.79 KB)\n"
      ]
     },
     "metadata": {},
     "output_type": "display_data"
    },
    {
     "data": {
      "text/html": [
       "<pre style=\"white-space:pre;overflow-x:auto;line-height:normal;font-family:Menlo,'DejaVu Sans Mono',consolas,'Courier New',monospace\"><span style=\"font-weight: bold\"> Trainable params: </span><span style=\"color: #00af00; text-decoration-color: #00af00\">57,289</span> (223.79 KB)\n",
       "</pre>\n"
      ],
      "text/plain": [
       "\u001b[1m Trainable params: \u001b[0m\u001b[38;5;34m57,289\u001b[0m (223.79 KB)\n"
      ]
     },
     "metadata": {},
     "output_type": "display_data"
    },
    {
     "data": {
      "text/html": [
       "<pre style=\"white-space:pre;overflow-x:auto;line-height:normal;font-family:Menlo,'DejaVu Sans Mono',consolas,'Courier New',monospace\"><span style=\"font-weight: bold\"> Non-trainable params: </span><span style=\"color: #00af00; text-decoration-color: #00af00\">0</span> (0.00 B)\n",
       "</pre>\n"
      ],
      "text/plain": [
       "\u001b[1m Non-trainable params: \u001b[0m\u001b[38;5;34m0\u001b[0m (0.00 B)\n"
      ]
     },
     "metadata": {},
     "output_type": "display_data"
    },
    {
     "name": "stdout",
     "output_type": "stream",
     "text": [
      "None\n"
     ]
    }
   ],
   "source": [
    "model = Sequential()\n",
    "model.add(Dense(FIRST_LAYER_NEURONS,  activation=\"relu\"))\n",
    "model.add(Dense(SECOND_LAYER_NEURONS, activation=\"relu\"))\n",
    "model.add(Dense(THIRD_LAYER_NEURONS, activation=\"relu\"))\n",
    "model.add(Dense(1, activation=\"sigmoid\"))\n",
    "model.build((None, observation_space))\n",
    "model.compile(loss=\"binary_crossentropy\", optimizer=SGD(learning_rate = LEARNING_RATE)) #Adam optimizer also works well, with lower learning rate\n",
    "\n",
    "print(model.summary())"
   ]
  },
  {
   "cell_type": "markdown",
   "id": "c1998717",
   "metadata": {},
   "source": [
    "# Reward function\n",
    "\n",
    "Input: a 0-1 vector of length DECISIONS. It represents the graph (or other object) you have created.\n",
    "\n",
    "Output: the reward/score for your construction. See files in the *demos* folder for examples.\t"
   ]
  },
  {
   "cell_type": "code",
   "execution_count": 6,
   "id": "6b4540ac",
   "metadata": {},
   "outputs": [],
   "source": [
    "def calc_score(state):\n",
    "    #\n",
    "    #\n",
    "    #\n",
    "    # -----Your code goes here-----\n",
    "    #\n",
    "    #\n",
    "    #\n",
    "\treward = 1\n",
    "\t\n",
    "\n",
    "\treturn reward"
   ]
  },
  {
   "cell_type": "code",
   "execution_count": 7,
   "id": "4efc9e54",
   "metadata": {},
   "outputs": [],
   "source": [
    "jitted_calc_score = njit()(calc_score) # Creating highly optimized, compiled version of calc_score function to make it run faster"
   ]
  }
 ],
 "metadata": {
  "kernelspec": {
   "display_name": "base",
   "language": "python",
   "name": "python3"
  },
  "language_info": {
   "codemirror_mode": {
    "name": "ipython",
    "version": 3
   },
   "file_extension": ".py",
   "mimetype": "text/x-python",
   "name": "python",
   "nbconvert_exporter": "python",
   "pygments_lexer": "ipython3",
   "version": "3.12.9"
  }
 },
 "nbformat": 4,
 "nbformat_minor": 5
}
