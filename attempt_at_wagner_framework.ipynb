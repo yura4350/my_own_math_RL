{
 "cells": [
  {
   "cell_type": "markdown",
   "id": "880b7283-f77e-40ab-9b58-d6b3c7b831b1",
   "metadata": {},
   "source": [
    "# 1. Add imports"
   ]
  },
  {
   "cell_type": "code",
   "execution_count": 3,
   "id": "c1c49885-9ec5-4587-a048-5de11c174455",
   "metadata": {},
   "outputs": [],
   "source": [
    "# Standard & Scientific Libraries\n",
    "import random\n",
    "import numpy as np\n",
    "import pickle\n",
    "import time\n",
    "import math\n",
    "from statistics import mean\n",
    "\n",
    "# Visualization\n",
    "import matplotlib.pyplot as plt\n",
    "\n",
    "# Graph Theory\n",
    "import networkx as nx \n",
    "\n",
    "# High-Performance Computing\n",
    "from numba import njit\n",
    "\n",
    "# TensorFlow and Keras (Modern Imports)\n",
    "# Keras is now the high-level API within TensorFlow\n",
    "import tensorflow as tf\n",
    "from tensorflow.keras.utils import to_categorical\n",
    "from tensorflow.keras.models import Sequential, load_model\n",
    "from tensorflow.keras.layers import Dense\n",
    "from tensorflow.keras.optimizers import SGD, Adam"
   ]
  },
  {
   "cell_type": "markdown",
   "id": "a8fbbf52",
   "metadata": {},
   "source": [
    "# 2. Set all the constants"
   ]
  },
  {
   "cell_type": "code",
   "execution_count": null,
   "id": "2f28b890-6b83-487a-be21-bc933b1a5660",
   "metadata": {},
   "outputs": [],
   "source": [
    "N = 20 # number of vertices in the graph. Only used in the reward function, irrelevant to the algorithm\n",
    "DECISIONS = int(N*(N-1)/2) # The length of the word we are generating"
   ]
  }
 ],
 "metadata": {
  "kernelspec": {
   "display_name": "base",
   "language": "python",
   "name": "python3"
  },
  "language_info": {
   "codemirror_mode": {
    "name": "ipython",
    "version": 3
   },
   "file_extension": ".py",
   "mimetype": "text/x-python",
   "name": "python",
   "nbconvert_exporter": "python",
   "pygments_lexer": "ipython3",
   "version": "3.12.9"
  }
 },
 "nbformat": 4,
 "nbformat_minor": 5
}
